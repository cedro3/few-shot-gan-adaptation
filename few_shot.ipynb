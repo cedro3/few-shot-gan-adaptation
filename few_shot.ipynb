{
  "nbformat": 4,
  "nbformat_minor": 0,
  "metadata": {
    "accelerator": "GPU",
    "colab": {
      "name": "few_shot",
      "provenance": [],
      "collapsed_sections": [],
      "mount_file_id": "1rCPKalwstahynwEfGJqKjW_uvHcVhzhQ",
      "authorship_tag": "ABX9TyO2UPkcGzvkrFWFlBnmcHXC",
      "include_colab_link": true
    },
    "kernelspec": {
      "display_name": "Python 3",
      "name": "python3"
    },
    "language_info": {
      "name": "python"
    }
  },
  "cells": [
    {
      "cell_type": "markdown",
      "metadata": {
        "id": "view-in-github",
        "colab_type": "text"
      },
      "source": [
        "<a href=\"https://colab.research.google.com/github/cedro3/few-shot-gan-adaptation/blob/main/few_shot.ipynb\" target=\"_parent\"><img src=\"https://colab.research.google.com/assets/colab-badge.svg\" alt=\"Open In Colab\"/></a>"
      ]
    },
    {
      "cell_type": "markdown",
      "metadata": {
        "id": "ImAfLI9JPFC_"
      },
      "source": [
        "## セットアップ"
      ]
    },
    {
      "cell_type": "code",
      "metadata": {
        "id": "szeGvyl4c7zD"
      },
      "source": [
        "# github からコードを取得\n",
        "! git clone https://github.com/cedro3/few-shot-gan-adaptation.git\n",
        "%cd few-shot-gan-adaptation\n",
        "\n",
        "# ライブラリーのインストール\n",
        "! pip install torch==1.7.0+cu101 torchvision==0.8.1+cu101 -f https://download.pytorch.org/whl/torch_stable.html\n",
        "! pip install pytorch-fid==0.1.1\n",
        "! pip install visdom==0.1.8.9\n",
        "! pip install lpips==0.1.3\n",
        "! pip install scipy==1.1.0\n",
        "\n",
        "# ninja システムのインストール\n",
        "! wget https://github.com/ninja-build/ninja/releases/download/v1.8.2/ninja-linux.zip\n",
        "! sudo unzip ninja-linux.zip -d /usr/local/bin/\n",
        "! sudo update-alternatives --install /usr/bin/ninja ninja /usr/local/bin/ninja 1 --force\n",
        "\n",
        "# 学習済みパラメータのダウンロード\n",
        "import gdown\n",
        "gdown.download('https://drive.google.com/u/0/uc?id=1TQ_6x74RPQf03mSjtqUijM4MZEMyn7HI', 'source_ffhq.pt', quiet=False)\n",
        "gdown.download('https://drive.google.com/u/0/uc?id=1Qkdeyk_-1pqgvrIFy6AzsSYNgZMtwKX3', 'ffhq_sketches.pt', quiet=False)\n",
        "gdown.download('https://drive.google.com/u/0/uc?id=1CX8uYEWqlZaY7or_iuLp3ZFBcsOOXMt8', 'ffhq_caricatures.pt', quiet=False)\n",
        "\n",
        "# フォルダーの作成\n",
        "import os\n",
        "os.makedirs('traversals', exist_ok=True)"
      ],
      "execution_count": null,
      "outputs": []
    },
    {
      "cell_type": "markdown",
      "metadata": {
        "id": "G7RkQL4Blyyc"
      },
      "source": [
        "## FFHQ & Sketches（noise.pt）"
      ]
    },
    {
      "cell_type": "markdown",
      "metadata": {
        "id": "f-I0-YpGm5zM"
      },
      "source": [
        "**Sketches から noise.pt で画像生成**"
      ]
    },
    {
      "cell_type": "code",
      "metadata": {
        "id": "ycB8YGSDMHFI"
      },
      "source": [
        "# Targetから画像生成\n",
        "! python generate_img.py --ckpt_target ffhq_sketches.pt --load_noise noise.pt\n",
        "\n",
        "from IPython.display import Image, display_png\n",
        "display_png(Image('./test_sample/sample.png'))"
      ],
      "execution_count": null,
      "outputs": []
    },
    {
      "cell_type": "markdown",
      "metadata": {
        "id": "BALv3pxQmSQX"
      },
      "source": [
        "**FFHQ & Sketches を noise.pt で視覚化**"
      ]
    },
    {
      "cell_type": "code",
      "metadata": {
        "id": "NVOJta_6ZCgW"
      },
      "source": [
        "# source & target の画像補完\n",
        "! python generate_img.py --ckpt_source source_ffhq.pt --ckpt_target ffhq_sketches.pt\\\n",
        "                           --mode interpolate --load_noise noise.pt\n",
        "\n",
        "# output.mp4 ファイル削除\n",
        "if os.path.exists('./output.mp4'):\n",
        "   os.remove('./output.mp4')\n",
        "\n",
        "# traversals フォルダーの静止画から動画を作成\n",
        "! ffmpeg -r 15 -i traversals/sample%3d.png\\\n",
        "               -vcodec libx264 -pix_fmt yuv420p output.mp4"
      ],
      "execution_count": null,
      "outputs": []
    },
    {
      "cell_type": "code",
      "metadata": {
        "id": "g4sZ0U6odMnX"
      },
      "source": [
        "# 動画再生\n",
        "from IPython.display import HTML\n",
        "from base64 import b64encode\n",
        "\n",
        "mp4 = open('./output.mp4', 'rb').read()\n",
        "data_url = 'data:video/mp4;base64,' + b64encode(mp4).decode()\n",
        "HTML(f\"\"\"\n",
        "<video width=\"50%\" height=\"50%\" controls>\n",
        "      <source src=\"{data_url}\" type=\"video/mp4\">\n",
        "</video>\"\"\")"
      ],
      "execution_count": null,
      "outputs": []
    },
    {
      "cell_type": "markdown",
      "metadata": {
        "id": "n86GGPp4nccQ"
      },
      "source": [
        "## FFHQ & Caricatures（noise.pt）"
      ]
    },
    {
      "cell_type": "markdown",
      "metadata": {
        "id": "ne-EKPwpnpC9"
      },
      "source": [
        "**Caricatures から noise.pt で画像生成**"
      ]
    },
    {
      "cell_type": "code",
      "metadata": {
        "id": "8qRt7Jm_gz_4"
      },
      "source": [
        "# GANからの画像生成（noise.pt）\n",
        "! python generate_img.py --ckpt_target ffhq_caricatures.pt --load_noise noise.pt\n",
        "\n",
        "from IPython.display import Image, display_png\n",
        "display_png(Image('./test_sample/sample.png'))"
      ],
      "execution_count": null,
      "outputs": []
    },
    {
      "cell_type": "markdown",
      "metadata": {
        "id": "FH4-Ferpnzok"
      },
      "source": [
        "**FFHQ & Caricatures を noise.pt で視覚化**"
      ]
    },
    {
      "cell_type": "code",
      "metadata": {
        "id": "w-w_v3tq7HC6"
      },
      "source": [
        "# source & target の画像補完\n",
        "! python generate_img.py --ckpt_source source_ffhq.pt --ckpt_target ffhq_caricatures.pt\\\n",
        "                           --mode interpolate --load_noise noise.pt\n",
        "\n",
        "# output.mp4 ファイル削除\n",
        "if os.path.exists('./output.mp4'):\n",
        "   os.remove('./output.mp4')\n",
        "\n",
        "# traversals フォルダーの静止画から動画を作成\n",
        "! ffmpeg -r 15 -i traversals/sample%3d.png\\\n",
        "               -vcodec libx264 -pix_fmt yuv420p output.mp4"
      ],
      "execution_count": null,
      "outputs": []
    },
    {
      "cell_type": "code",
      "metadata": {
        "id": "mTsVA3-2dCud"
      },
      "source": [
        "# 動画再生\n",
        "from IPython.display import HTML\n",
        "from base64 import b64encode\n",
        "\n",
        "mp4 = open('./output.mp4', 'rb').read()\n",
        "data_url = 'data:video/mp4;base64,' + b64encode(mp4).decode()\n",
        "HTML(f\"\"\"\n",
        "<video width=\"50%\" height=\"50%\" controls>\n",
        "      <source src=\"{data_url}\" type=\"video/mp4\">\n",
        "</video>\"\"\")"
      ],
      "execution_count": null,
      "outputs": []
    },
    {
      "cell_type": "markdown",
      "metadata": {
        "id": "-VGfObkTobqg"
      },
      "source": [
        "##FFHQ & Sketches（random.seed）"
      ]
    },
    {
      "cell_type": "markdown",
      "metadata": {
        "id": "eqMhqkMUztU5"
      },
      "source": [
        "**Sketches から random.seed で画像生成**"
      ]
    },
    {
      "cell_type": "code",
      "metadata": {
        "id": "2aI46EQponr6"
      },
      "source": [
        "# Targetから画像生成\n",
        "! python generate_img.py --ckpt_target ffhq_sketches.pt --rand 3\n",
        "\n",
        "from IPython.display import Image, display_png\n",
        "display_png(Image('./test_sample/sample.png'))"
      ],
      "execution_count": null,
      "outputs": []
    },
    {
      "cell_type": "markdown",
      "metadata": {
        "id": "3C9gHXvRz5yj"
      },
      "source": [
        "**FFHQ & Sketches を random.seed で視覚化**"
      ]
    },
    {
      "cell_type": "code",
      "metadata": {
        "id": "QnSrjv3oo-qg"
      },
      "source": [
        "# source & target の画像補完\n",
        "! python generate_img.py --ckpt_source source_ffhq.pt --ckpt_target ffhq_sketches.pt\\\n",
        "                           --mode interpolate --rand 3\n",
        "\n",
        "# output.mp4 ファイル削除\n",
        "if os.path.exists('./output.mp4'):\n",
        "   os.remove('./output.mp4')\n",
        "\n",
        "# traversals フォルダーの静止画から動画を作成\n",
        "! ffmpeg -r 15 -i traversals/sample%3d.png\\\n",
        "               -vcodec libx264 -pix_fmt yuv420p output.mp4"
      ],
      "execution_count": null,
      "outputs": []
    },
    {
      "cell_type": "code",
      "metadata": {
        "id": "MTbpjcFEo-3O"
      },
      "source": [
        "# 動画再生\n",
        "from IPython.display import HTML\n",
        "from base64 import b64encode\n",
        "\n",
        "mp4 = open('./output.mp4', 'rb').read()\n",
        "data_url = 'data:video/mp4;base64,' + b64encode(mp4).decode()\n",
        "HTML(f\"\"\"\n",
        "<video width=\"50%\" height=\"50%\" controls>\n",
        "      <source src=\"{data_url}\" type=\"video/mp4\">\n",
        "</video>\"\"\")"
      ],
      "execution_count": null,
      "outputs": []
    },
    {
      "cell_type": "markdown",
      "metadata": {
        "id": "egPGXwj8pfjY"
      },
      "source": [
        "##FFHQ & Caricatures（random.seed）"
      ]
    },
    {
      "cell_type": "markdown",
      "metadata": {
        "id": "Ms4kJhJc0JAS"
      },
      "source": [
        "**Caricatures から random.seed で画像生成**"
      ]
    },
    {
      "cell_type": "code",
      "metadata": {
        "id": "3GBCXILQpnhK"
      },
      "source": [
        "# Targetから画像生成\n",
        "! python generate_img.py --ckpt_target ffhq_caricatures.pt --rand 3\n",
        "\n",
        "from IPython.display import Image, display_png\n",
        "display_png(Image('./test_sample/sample.png'))"
      ],
      "execution_count": null,
      "outputs": []
    },
    {
      "cell_type": "markdown",
      "metadata": {
        "id": "7kHJ3bfQ0KUc"
      },
      "source": [
        "**FFHQ & Caricatures を random.seed で視覚化**"
      ]
    },
    {
      "cell_type": "code",
      "metadata": {
        "id": "Cc9zwDB0prSi"
      },
      "source": [
        "# source & target の画像補完\n",
        "! python generate_img.py --ckpt_source source_ffhq.pt --ckpt_target ffhq_caricatures.pt\\\n",
        "                           --mode interpolate --rand 3\n",
        "\n",
        "# output.mp4 ファイル削除\n",
        "if os.path.exists('./output.mp4'):\n",
        "   os.remove('./output.mp4')\n",
        "\n",
        "# traversals フォルダーの静止画から動画を作成\n",
        "! ffmpeg -r 15 -i traversals/sample%3d.png\\\n",
        "               -vcodec libx264 -pix_fmt yuv420p output.mp4"
      ],
      "execution_count": null,
      "outputs": []
    },
    {
      "cell_type": "code",
      "metadata": {
        "id": "xk3ziEp0pvjI"
      },
      "source": [
        "# 動画再生\n",
        "from IPython.display import HTML\n",
        "from base64 import b64encode\n",
        "\n",
        "mp4 = open('./output.mp4', 'rb').read()\n",
        "data_url = 'data:video/mp4;base64,' + b64encode(mp4).decode()\n",
        "HTML(f\"\"\"\n",
        "<video width=\"50%\" height=\"50%\" controls>\n",
        "      <source src=\"{data_url}\" type=\"video/mp4\">\n",
        "</video>\"\"\")"
      ],
      "execution_count": null,
      "outputs": []
    }
  ]
}